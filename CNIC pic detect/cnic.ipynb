{
 "cells": [
  {
   "cell_type": "code",
   "execution_count": 18,
   "metadata": {},
   "outputs": [],
   "source": [
    "import cv2\n",
    "import numpy as np\n",
    "\n",
    "def extract_picture_from_cnic(cnic_image_path):\n",
    "    image = cv2.imread(cnic_image_path)\n",
    "    gray = cv2.cvtColor(image, cv2.COLOR_BGR2GRAY)\n",
    "    x, y, w, h = 600, 100, 250, 300\n",
    "    cnic_picture = image[y:y+h, x:x+w]\n",
    "    cv2.imwrite('crop_cnic_pic.jpg', cnic_picture)\n",
    "\n",
    "    return cnic_picture\n",
    "\n",
    "cnic_pic = extract_picture_from_cnic('cnic.png')\n"
   ]
  },
  {
   "cell_type": "code",
   "execution_count": 19,
   "metadata": {},
   "outputs": [],
   "source": [
    "cv2.imshow('CNIC Picture', cnic_pic)\n",
    "cv2.waitKey(0) \n",
    "cv2.destroyAllWindows()  \n"
   ]
  },
  {
   "cell_type": "code",
   "execution_count": 20,
   "metadata": {},
   "outputs": [
    {
     "name": "stdout",
     "output_type": "stream",
     "text": [
      "Could not detect face in one of the images\n"
     ]
    }
   ],
   "source": [
    "import face_recognition\n",
    "\n",
    "def detect_face(img_path):\n",
    "    image = face_recognition.load_image_file(img_path)\n",
    "    face_locations = face_recognition.face_locations(image)\n",
    "    if len(face_locations) == 0:\n",
    "        return None\n",
    "    face_encodings = face_recognition.face_encodings(image, face_locations)\n",
    "    return face_encodings[0] # first face detected \n",
    "\n",
    "def compare_faces(cnic_pic_arr, input_pic_arr):\n",
    "    results = face_recognition.compare_faces([cnic_pic_arr], input_pic_arr)\n",
    "    return results[0]\n",
    "\n",
    "cnic_pic_arr = detect_face('crop_cnic_pic.jpg')\n",
    "input_pic_arr = detect_face('back.jpg')\n",
    "\n",
    "if cnic_pic_arr is not None and input_pic_arr is not None:\n",
    "    match = compare_faces(cnic_pic_arr, input_pic_arr)\n",
    "    if match:\n",
    "        print(\"Same person.\")\n",
    "    else:\n",
    "        print(\"Not the same person.\")\n",
    "else:\n",
    "    print(\"Could not detect face\")\n"
   ]
  },
  {
   "cell_type": "code",
   "execution_count": null,
   "metadata": {},
   "outputs": [],
   "source": []
  },
  {
   "cell_type": "code",
   "execution_count": null,
   "metadata": {},
   "outputs": [],
   "source": []
  }
 ],
 "metadata": {
  "kernelspec": {
   "display_name": "traning_env",
   "language": "python",
   "name": "python3"
  },
  "language_info": {
   "codemirror_mode": {
    "name": "ipython",
    "version": 3
   },
   "file_extension": ".py",
   "mimetype": "text/x-python",
   "name": "python",
   "nbconvert_exporter": "python",
   "pygments_lexer": "ipython3",
   "version": "3.9.19"
  }
 },
 "nbformat": 4,
 "nbformat_minor": 2
}
