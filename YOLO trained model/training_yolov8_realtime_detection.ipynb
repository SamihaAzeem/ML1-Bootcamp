{
 "cells": [
  {
   "cell_type": "markdown",
   "metadata": {},
   "source": [
    "Install the required library"
   ]
  },
  {
   "cell_type": "code",
   "execution_count": null,
   "metadata": {},
   "outputs": [],
   "source": [
    "# !pip install ultralytics"
   ]
  },
  {
   "cell_type": "markdown",
   "metadata": {},
   "source": [
    "Training the Yolo v8 model on custom dataset"
   ]
  },
  {
   "cell_type": "code",
   "execution_count": null,
   "metadata": {},
   "outputs": [],
   "source": [
    "from ultralytics import YOLO\n",
    "\n",
    "model = YOLO('yolov8n.yaml')\n",
    "model.train(data='/content/drive/MyDrive/yolo_dataset_tshirt/data.yaml', epochs=50, imgsz=640)\n"
   ]
  },
  {
   "cell_type": "markdown",
   "metadata": {},
   "source": [
    "Save the model"
   ]
  },
  {
   "cell_type": "code",
   "execution_count": null,
   "metadata": {},
   "outputs": [],
   "source": [
    "model.save('/content/drive/MyDrive/yolov8_tshirt.pt')"
   ]
  },
  {
   "cell_type": "markdown",
   "metadata": {},
   "source": [
    "Detect a Single image\n",
    "\n",
    "results[0] -- Accesses the first result in the list which contains the detections for the first image or frame\n",
    "In the ultralytics library, the results object typically contains a list of results for each image or frame processed. \n",
    "When we perform inference on a single frame, we usually get a list with one result in it.\n",
    "Even if we're only processing one image or frame, the output format is designed to handle multiple images, \n",
    "so accessing results[0] is a consistent way to get the results, whether it's a single image or a batch of images."
   ]
  },
  {
   "cell_type": "code",
   "execution_count": null,
   "metadata": {},
   "outputs": [],
   "source": [
    "model = YOLO('tshirt_detection_model.pt')\n",
    "\n",
    "image_path = 'C:/Users/DELL/Desktop/Bootcamp/ML1-Bootcamp/Tshirt/YOLO trained model/Archive/a.jpg'  \n",
    "results = model(image_path)\n",
    "results[0].show()\n",
    "\n"
   ]
  },
  {
   "cell_type": "markdown",
   "metadata": {},
   "source": [
    "Use the trained model to detect color of tshirts\n",
    "Test images are on the folder named Archive"
   ]
  },
  {
   "cell_type": "code",
   "execution_count": null,
   "metadata": {},
   "outputs": [],
   "source": [
    "import os\n",
    "import matplotlib.pyplot as plt\n",
    "\n",
    "model = YOLO('tshirt_detection_model.pt')\n",
    "\n",
    "dir_path = 'C:/Users/DELL/Desktop/Bootcamp/ML1-Bootcamp/Tshirt/YOLO trained model/Archive'\n",
    "save_dir = 'C:/Users/DELL/Desktop/Bootcamp/ML1-Bootcamp/Tshirt/YOLO trained model/annotated_images'\n",
    "\n",
    "os.makedirs(save_dir, exist_ok=True)\n",
    "image_files = [f for f in os.listdir(dir_path) if os.path.isfile(os.path.join(dir_path, f)) and f.lower().endswith(('.png', '.jpg', '.jpeg'))]\n",
    "\n",
    "for image_file in image_files:\n",
    "    image_path = os.path.join(dir_path, image_file)\n",
    "    results = model(image_path)\n",
    "    \n",
    "    # Display the results for the first (and only) image in results\n",
    "    # results[0].show()\n",
    "    \n",
    "    # Save the annotated image in the folder\n",
    "    save_path = os.path.join(save_dir, image_file)\n",
    "    results[0].save(save_path)\n",
    "\n",
    "    # Can use matplotlib too\n",
    "    # result = results[0]\n",
    "    # img_with_boxes = plot_boxes(result.imgs[0], result.boxes.xyxy, result.boxes.conf, result.boxes.cls, class_names=model.names)\n",
    "    # plt.imshow(img_with_boxes)\n",
    "    # plt.axis('off')\n",
    "    # plt.show()\n"
   ]
  },
  {
   "cell_type": "markdown",
   "metadata": {},
   "source": [
    "Real time webcamp detection"
   ]
  },
  {
   "cell_type": "code",
   "execution_count": null,
   "metadata": {},
   "outputs": [],
   "source": [
    "import cv2\n",
    "\n",
    "model = YOLO('tshirt_detection_model.pt')\n",
    "cap = cv2.VideoCapture(0)\n",
    "\n",
    "if not cap.isOpened():\n",
    "    print(\"Error: Could not open webcam.\")\n",
    "    exit()\n",
    "\n",
    "while True:\n",
    "    ret, frame = cap.read()\n",
    "    if not ret:\n",
    "        print(\"Error: Could not read frame.\")\n",
    "        break\n",
    "    \n",
    "\n",
    "    frame = cv2.flip(frame, 1)\n",
    "    results = model(frame)\n",
    "    annotated_frame = results[0].plot()\n",
    "\n",
    "    cv2.imshow('T-shirt Color Detection', annotated_frame)\n",
    "\n",
    "    if cv2.waitKey(1) & 0xFF == ord('q'):\n",
    "        break\n",
    "\n",
    "cap.release()\n",
    "cv2.destroyAllWindows()\n"
   ]
  },
  {
   "cell_type": "markdown",
   "metadata": {},
   "source": [
    "Real time Color detection using DroidCam(phone camera)"
   ]
  },
  {
   "cell_type": "code",
   "execution_count": null,
   "metadata": {},
   "outputs": [],
   "source": [
    "import cv2\n",
    "from ultralytics import YOLO\n",
    "\n",
    "\n",
    "model = YOLO('tshirt_detection_model.pt')\n",
    "phone_camera_url = 'http://192.168.1.41:4747/video' \n",
    "\n",
    "cap = cv2.VideoCapture(phone_camera_url)\n",
    "\n",
    "if not cap.isOpened():\n",
    "    print(\"Error: Could not open phone camera.\")\n",
    "    exit()\n",
    "\n",
    "while True:\n",
    "    ret, frame = cap.read()\n",
    "    if not ret:\n",
    "        print(\"Error: Could not read frame.\")\n",
    "        break\n",
    "\n",
    "    frame = cv2.flip(frame, 1)\n",
    "    results = model(frame)\n",
    "    annotated_frame = results[0].plot()\n",
    "    cv2.imshow('T-shirt Color Detection', annotated_frame)\n",
    "\n",
    "    if cv2.waitKey(1) & 0xFF == ord('q'):\n",
    "        break\n",
    "cap.release()\n",
    "cv2.destroyAllWindows()\n"
   ]
  },
  {
   "cell_type": "code",
   "execution_count": null,
   "metadata": {},
   "outputs": [],
   "source": []
  },
  {
   "cell_type": "code",
   "execution_count": null,
   "metadata": {},
   "outputs": [],
   "source": []
  }
 ],
 "metadata": {
  "language_info": {
   "name": "python"
  }
 },
 "nbformat": 4,
 "nbformat_minor": 2
}
