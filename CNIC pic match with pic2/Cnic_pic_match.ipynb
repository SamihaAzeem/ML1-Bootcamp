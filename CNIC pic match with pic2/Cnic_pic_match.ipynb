{
 "cells": [
  {
   "cell_type": "code",
   "execution_count": 6,
   "metadata": {},
   "outputs": [
    {
     "name": "stdout",
     "output_type": "stream",
     "text": [
      "No face detected in the second image.\n"
     ]
    }
   ],
   "source": [
    "import face_recognition\n",
    "import cv2\n",
    "import numpy as np\n",
    "\n",
    "def detect_face(img_path):\n",
    "    image = face_recognition.load_image_file(img_path)\n",
    "    face_locations = face_recognition.face_locations(image)\n",
    "    if len(face_locations) == 0:\n",
    "        return None, None\n",
    "    face_encodings = face_recognition.face_encodings(image, face_locations)\n",
    "    return face_encodings, face_locations\n",
    "\n",
    "def match_face(pic1_encoded, pic2_encoded):\n",
    "    results = face_recognition.compare_faces([pic1_encoded], pic2_encoded)\n",
    "    return results[0]\n",
    "\n",
    "def draw_rectangle_face(image, face_locations):\n",
    "    for (top, right, bottom, left) in face_locations:\n",
    "        cv2.rectangle(image, (left, top), (right, bottom), (0, 50, 255), 3)  # rgb thickness of line\n",
    "    return image\n",
    "\n",
    "img1_path = 'cnic.png'\n",
    "img2_path = 'back.jpg'\n",
    "\n",
    "pic1_encoded, pic1_face_locations = detect_face(img1_path)\n",
    "if pic1_encoded is not None:\n",
    "    pic1 = cv2.imread(img1_path)\n",
    "    pic1 = draw_rectangle_face(pic1, pic1_face_locations)\n",
    "    cv2.imshow('Pic1', pic1)\n",
    "else:\n",
    "    print(\"No face detected in the first image.\")\n",
    "\n",
    "\n",
    "pic2_encoded, pic2_face_locations = detect_face(img2_path)\n",
    "if pic2_encoded is not None:\n",
    "    pic2 = cv2.imread(img2_path)\n",
    "    pic2 = draw_rectangle_face(pic2, pic2_face_locations)\n",
    "    cv2.imshow('Pic2', pic2)\n",
    "else:\n",
    "    print(\"No face detected in the second image.\")\n",
    "\n",
    "if pic1_encoded is not None and pic2_encoded is not None:\n",
    "    match = match_face(pic1_encoded[0], pic2_encoded[0])\n",
    "    if match:\n",
    "        print(\"Same person\")\n",
    "    else:\n",
    "        print(\"Not the same person\")\n",
    "\n",
    "cv2.waitKey(0)\n",
    "cv2.destroyAllWindows()\n"
   ]
  },
  {
   "cell_type": "code",
   "execution_count": null,
   "metadata": {},
   "outputs": [],
   "source": []
  }
 ],
 "metadata": {
  "kernelspec": {
   "display_name": "traning_env",
   "language": "python",
   "name": "python3"
  },
  "language_info": {
   "codemirror_mode": {
    "name": "ipython",
    "version": 3
   },
   "file_extension": ".py",
   "mimetype": "text/x-python",
   "name": "python",
   "nbconvert_exporter": "python",
   "pygments_lexer": "ipython3",
   "version": "3.9.19"
  }
 },
 "nbformat": 4,
 "nbformat_minor": 2
}
